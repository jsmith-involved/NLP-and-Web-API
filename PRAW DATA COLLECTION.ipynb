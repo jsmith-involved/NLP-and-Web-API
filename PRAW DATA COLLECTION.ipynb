{
 "cells": [
  {
   "cell_type": "markdown",
   "id": "99187773-5366-4d6a-a074-472158ba8201",
   "metadata": {},
   "source": [
    "## Data Collection"
   ]
  },
  {
   "cell_type": "markdown",
   "id": "a1d83180-dd6f-4593-ab9f-53894e3e48b8",
   "metadata": {},
   "source": [
    "### Imports"
   ]
  },
  {
   "cell_type": "code",
   "execution_count": 23,
   "id": "113c21c2-ec56-4e91-8c3c-adbf2955dce5",
   "metadata": {},
   "outputs": [],
   "source": [
    "# !pip install praw\n",
    "import praw\n",
    "import pandas as pd\n",
    "import time\n",
    "from sklearn.preprocessing import LabelEncoder"
   ]
  },
  {
   "cell_type": "markdown",
   "id": "f3f002f1-b6d7-45c3-aba9-aa0f8eabc3ba",
   "metadata": {},
   "source": [
    "### Initializing Praw"
   ]
  },
  {
   "cell_type": "code",
   "execution_count": 2,
   "id": "175fabc3-8b08-4e48-8d46-3579dc249d14",
   "metadata": {},
   "outputs": [],
   "source": [
    "#initilizing praw\n",
    "reddit = praw.Reddit(\n",
    "    client_id=['ID'],\n",
    "    client_secret=['SECRET'],\n",
    "    user_agent=['AGENT'],\n",
    "    username=['USER'],\n",
    "    password=['PASSWORD']\n",
    ")"
   ]
  },
  {
   "cell_type": "markdown",
   "id": "38e7526a-f7ea-4bbe-bd2e-c19a1c6d000f",
   "metadata": {},
   "source": [
    "### Function to Get Subreddit Posts"
   ]
  },
  {
   "cell_type": "code",
   "execution_count": 3,
   "id": "8ef0a317-3408-4862-b65d-6e7ecfa81ea5",
   "metadata": {},
   "outputs": [],
   "source": [
    "#making function to grab each post type\n",
    "def post_datafier(subreddit, sort_type):\n",
    "    if sort_type == \"new\":\n",
    "        posts = subreddit.new(limit=1000)\n",
    "        time.sleep(10)\n",
    "    elif sort_type == \"top\":\n",
    "        posts = subreddit.top(limit=1000)\n",
    "        time.sleep(10)\n",
    "    elif sort_type == \"hot\":\n",
    "        posts = subreddit.hot(limit=1000)\n",
    "    elif sort_type == \"rising\":\n",
    "        posts = subreddit.rising(limit=100)\n",
    "    elif sort_type == \"controversial\":\n",
    "        posts = subreddit.controversial(limit=1000)\n",
    "    else:\n",
    "        raise ValueError(\"OOPS! Sort type not in subreddit sort options.\")\n",
    "    \n",
    "    data = []\n",
    "    for post in posts:\n",
    "        data.append([post.created_utc, post.title, post.selftext, post.subreddit, sort_type])\n",
    "    \n",
    "    df = pd.DataFrame(data, columns=['created_utc', 'title', 'self_text', 'subreddit', 'sort'])\n",
    "    df_non_empty_txt = df[df['self_text'] != \"\"]\n",
    "    df_cleaned = df_non_empty_txt.drop_duplicates()\n",
    "\n",
    "    time.sleep(10)\n",
    "\n",
    "    return df_cleaned"
   ]
  },
  {
   "cell_type": "markdown",
   "id": "12b3a271-1dc7-4bae-8d91-326af72d31c0",
   "metadata": {},
   "source": [
    "### Getting QDOBA Posts"
   ]
  },
  {
   "cell_type": "code",
   "execution_count": 4,
   "id": "7f1c892a-c09e-4510-ba09-ec644bcc2e20",
   "metadata": {},
   "outputs": [],
   "source": [
    "#using praw to get qdoba subreddit data\n",
    "qdoba_subreddit = reddit.subreddit('qdoba')"
   ]
  },
  {
   "cell_type": "code",
   "execution_count": 5,
   "id": "2ec59493-d431-430d-943c-6c56432ac9af",
   "metadata": {},
   "outputs": [
    {
     "data": {
      "text/html": [
       "<div>\n",
       "<style scoped>\n",
       "    .dataframe tbody tr th:only-of-type {\n",
       "        vertical-align: middle;\n",
       "    }\n",
       "\n",
       "    .dataframe tbody tr th {\n",
       "        vertical-align: top;\n",
       "    }\n",
       "\n",
       "    .dataframe thead th {\n",
       "        text-align: right;\n",
       "    }\n",
       "</style>\n",
       "<table border=\"1\" class=\"dataframe\">\n",
       "  <thead>\n",
       "    <tr style=\"text-align: right;\">\n",
       "      <th></th>\n",
       "      <th>created_utc</th>\n",
       "      <th>title</th>\n",
       "      <th>self_text</th>\n",
       "      <th>subreddit</th>\n",
       "      <th>sort</th>\n",
       "    </tr>\n",
       "  </thead>\n",
       "  <tbody>\n",
       "    <tr>\n",
       "      <th>0</th>\n",
       "      <td>1.713651e+09</td>\n",
       "      <td>Can a qdoba employee please shed some light on...</td>\n",
       "      <td>This is a throwaway account.\\n\\nSo sometimes l...</td>\n",
       "      <td>qdoba</td>\n",
       "      <td>new</td>\n",
       "    </tr>\n",
       "    <tr>\n",
       "      <th>1</th>\n",
       "      <td>1.713560e+09</td>\n",
       "      <td>Found an artery in my birria Qdoba bowl last w...</td>\n",
       "      <td>Yes, I'm aware that meat comes from animals an...</td>\n",
       "      <td>qdoba</td>\n",
       "      <td>new</td>\n",
       "    </tr>\n",
       "    <tr>\n",
       "      <th>2</th>\n",
       "      <td>1.713396e+09</td>\n",
       "      <td>A la carte still available?</td>\n",
       "      <td>I used to always get an a la carte bowl + addi...</td>\n",
       "      <td>qdoba</td>\n",
       "      <td>new</td>\n",
       "    </tr>\n",
       "    <tr>\n",
       "      <th>3</th>\n",
       "      <td>1.712707e+09</td>\n",
       "      <td>Elote</td>\n",
       "      <td>Any store start getting the elote ingredients?...</td>\n",
       "      <td>qdoba</td>\n",
       "      <td>new</td>\n",
       "    </tr>\n",
       "    <tr>\n",
       "      <th>4</th>\n",
       "      <td>1.712293e+09</td>\n",
       "      <td>in defense of national burrito day</td>\n",
       "      <td>absolutely joking, it sucks for both customers...</td>\n",
       "      <td>qdoba</td>\n",
       "      <td>new</td>\n",
       "    </tr>\n",
       "  </tbody>\n",
       "</table>\n",
       "</div>"
      ],
      "text/plain": [
       "    created_utc                                              title  \\\n",
       "0  1.713651e+09  Can a qdoba employee please shed some light on...   \n",
       "1  1.713560e+09  Found an artery in my birria Qdoba bowl last w...   \n",
       "2  1.713396e+09                        A la carte still available?   \n",
       "3  1.712707e+09                                              Elote   \n",
       "4  1.712293e+09                 in defense of national burrito day   \n",
       "\n",
       "                                           self_text subreddit sort  \n",
       "0  This is a throwaway account.\\n\\nSo sometimes l...     qdoba  new  \n",
       "1  Yes, I'm aware that meat comes from animals an...     qdoba  new  \n",
       "2  I used to always get an a la carte bowl + addi...     qdoba  new  \n",
       "3  Any store start getting the elote ingredients?...     qdoba  new  \n",
       "4  absolutely joking, it sucks for both customers...     qdoba  new  "
      ]
     },
     "execution_count": 5,
     "metadata": {},
     "output_type": "execute_result"
    }
   ],
   "source": [
    "#getting the individual posts by sort and calling my function\n",
    "sorts = [\"new\", \"top\", \"hot\", \"rising\", \"controversial\"]\n",
    "qdoba_sorted = []\n",
    "\n",
    "for sort in sorts:\n",
    "    qdoba_one_sort = post_datafier(qdoba_subreddit, sort) #calling for posts for each iteration of a specific sort\n",
    "    qdoba_sorted.append(qdoba_one_sort)\n",
    "\n",
    "#adding all sorts to one df as the company\n",
    "qdoba = pd.concat(qdoba_sorted, ignore_index=True)\n",
    "\n",
    "qdoba.head() "
   ]
  },
  {
   "cell_type": "code",
   "execution_count": 6,
   "id": "580825b3-6f11-4af5-ac3f-dee5d77998d5",
   "metadata": {},
   "outputs": [
    {
     "data": {
      "text/plain": [
       "(1833, 5)"
      ]
     },
     "execution_count": 6,
     "metadata": {},
     "output_type": "execute_result"
    }
   ],
   "source": [
    "qdoba.shape"
   ]
  },
  {
   "cell_type": "code",
   "execution_count": 7,
   "id": "6e7c465f-2605-4d84-a43d-5b00c5e4d1fd",
   "metadata": {},
   "outputs": [
    {
     "data": {
      "text/plain": [
       "0"
      ]
     },
     "execution_count": 7,
     "metadata": {},
     "output_type": "execute_result"
    }
   ],
   "source": [
    "qdoba.isna().sum().sum()"
   ]
  },
  {
   "cell_type": "markdown",
   "id": "0c3aaeb7-d7e4-4f30-80b5-106962e2dc53",
   "metadata": {},
   "source": [
    "### Getting Chipotle Posts"
   ]
  },
  {
   "cell_type": "code",
   "execution_count": 8,
   "id": "a0f570be-1204-4d3c-ad39-976cb5249109",
   "metadata": {},
   "outputs": [],
   "source": [
    "#using praw to get chipotle subreddit data\n",
    "chipotle_subreddit = reddit.subreddit('Chipotle')"
   ]
  },
  {
   "cell_type": "code",
   "execution_count": 9,
   "id": "12e7ebc2-a970-40b8-a23b-2ed11cc749e6",
   "metadata": {},
   "outputs": [
    {
     "data": {
      "text/html": [
       "<div>\n",
       "<style scoped>\n",
       "    .dataframe tbody tr th:only-of-type {\n",
       "        vertical-align: middle;\n",
       "    }\n",
       "\n",
       "    .dataframe tbody tr th {\n",
       "        vertical-align: top;\n",
       "    }\n",
       "\n",
       "    .dataframe thead th {\n",
       "        text-align: right;\n",
       "    }\n",
       "</style>\n",
       "<table border=\"1\" class=\"dataframe\">\n",
       "  <thead>\n",
       "    <tr style=\"text-align: right;\">\n",
       "      <th></th>\n",
       "      <th>created_utc</th>\n",
       "      <th>title</th>\n",
       "      <th>self_text</th>\n",
       "      <th>subreddit</th>\n",
       "      <th>sort</th>\n",
       "    </tr>\n",
       "  </thead>\n",
       "  <tbody>\n",
       "    <tr>\n",
       "      <th>0</th>\n",
       "      <td>1.713893e+09</td>\n",
       "      <td>Free BOGO 9/22/24 Hockey Deal</td>\n",
       "      <td>I had seen yesterday that there was a bogo dea...</td>\n",
       "      <td>Chipotle</td>\n",
       "      <td>new</td>\n",
       "    </tr>\n",
       "    <tr>\n",
       "      <th>1</th>\n",
       "      <td>1.713893e+09</td>\n",
       "      <td>where did my points go?!?@?@?@</td>\n",
       "      <td>i had roughly 1500 points and when i went to u...</td>\n",
       "      <td>Chipotle</td>\n",
       "      <td>new</td>\n",
       "    </tr>\n",
       "    <tr>\n",
       "      <th>2</th>\n",
       "      <td>1.713890e+09</td>\n",
       "      <td>Pepper color…</td>\n",
       "      <td>Sitting here chomping down on my delicious bow...</td>\n",
       "      <td>Chipotle</td>\n",
       "      <td>new</td>\n",
       "    </tr>\n",
       "    <tr>\n",
       "      <th>3</th>\n",
       "      <td>1.713889e+09</td>\n",
       "      <td>Here’s why I don’t go to chipotle anymore</td>\n",
       "      <td>$13 with the drink from a small local business...</td>\n",
       "      <td>Chipotle</td>\n",
       "      <td>new</td>\n",
       "    </tr>\n",
       "    <tr>\n",
       "      <th>4</th>\n",
       "      <td>1.713888e+09</td>\n",
       "      <td>Fajita veggies</td>\n",
       "      <td>It’s absolutely insane you guys can’t have eno...</td>\n",
       "      <td>Chipotle</td>\n",
       "      <td>new</td>\n",
       "    </tr>\n",
       "  </tbody>\n",
       "</table>\n",
       "</div>"
      ],
      "text/plain": [
       "    created_utc                                      title  \\\n",
       "0  1.713893e+09              Free BOGO 9/22/24 Hockey Deal   \n",
       "1  1.713893e+09             where did my points go?!?@?@?@   \n",
       "2  1.713890e+09                              Pepper color…   \n",
       "3  1.713889e+09  Here’s why I don’t go to chipotle anymore   \n",
       "4  1.713888e+09                            Fajita veggies    \n",
       "\n",
       "                                           self_text subreddit sort  \n",
       "0  I had seen yesterday that there was a bogo dea...  Chipotle  new  \n",
       "1  i had roughly 1500 points and when i went to u...  Chipotle  new  \n",
       "2  Sitting here chomping down on my delicious bow...  Chipotle  new  \n",
       "3  $13 with the drink from a small local business...  Chipotle  new  \n",
       "4  It’s absolutely insane you guys can’t have eno...  Chipotle  new  "
      ]
     },
     "execution_count": 9,
     "metadata": {},
     "output_type": "execute_result"
    }
   ],
   "source": [
    "#based on previous function\n",
    "chipotle_sorted = []\n",
    "\n",
    "for sort in sorts:\n",
    "    chipotle_one_sort = post_datafier(chipotle_subreddit, sort)\n",
    "    chipotle_sorted.append(chipotle_one_sort)\n",
    "\n",
    "#adding all sorts to one df as the company\n",
    "chipotle = pd.concat(chipotle_sorted, ignore_index=True)\n",
    "\n",
    "chipotle.head() "
   ]
  },
  {
   "cell_type": "code",
   "execution_count": 10,
   "id": "a765498a-7d97-4bbe-b568-129d8b8d2037",
   "metadata": {},
   "outputs": [
    {
     "data": {
      "text/plain": [
       "(2860, 5)"
      ]
     },
     "execution_count": 10,
     "metadata": {},
     "output_type": "execute_result"
    }
   ],
   "source": [
    "chipotle.shape"
   ]
  },
  {
   "cell_type": "code",
   "execution_count": 11,
   "id": "217c1845-d39b-46b7-b878-ee1405a5bc00",
   "metadata": {},
   "outputs": [
    {
     "data": {
      "text/plain": [
       "0"
      ]
     },
     "execution_count": 11,
     "metadata": {},
     "output_type": "execute_result"
    }
   ],
   "source": [
    "chipotle.isna().sum().sum()"
   ]
  },
  {
   "cell_type": "markdown",
   "id": "3e5b6821-556f-44ab-82a2-1cf073c1a7b4",
   "metadata": {},
   "source": [
    "## Creating the Final DataFrame"
   ]
  },
  {
   "cell_type": "code",
   "execution_count": 46,
   "id": "87643421-0d57-43f2-bac0-b072c99c9763",
   "metadata": {},
   "outputs": [
    {
     "data": {
      "text/html": [
       "<div>\n",
       "<style scoped>\n",
       "    .dataframe tbody tr th:only-of-type {\n",
       "        vertical-align: middle;\n",
       "    }\n",
       "\n",
       "    .dataframe tbody tr th {\n",
       "        vertical-align: top;\n",
       "    }\n",
       "\n",
       "    .dataframe thead th {\n",
       "        text-align: right;\n",
       "    }\n",
       "</style>\n",
       "<table border=\"1\" class=\"dataframe\">\n",
       "  <thead>\n",
       "    <tr style=\"text-align: right;\">\n",
       "      <th></th>\n",
       "      <th>created_utc</th>\n",
       "      <th>title</th>\n",
       "      <th>self_text</th>\n",
       "      <th>subreddit</th>\n",
       "      <th>sort</th>\n",
       "    </tr>\n",
       "  </thead>\n",
       "  <tbody>\n",
       "    <tr>\n",
       "      <th>0</th>\n",
       "      <td>1.713893e+09</td>\n",
       "      <td>Free BOGO 9/22/24 Hockey Deal</td>\n",
       "      <td>I had seen yesterday that there was a bogo dea...</td>\n",
       "      <td>Chipotle</td>\n",
       "      <td>new</td>\n",
       "    </tr>\n",
       "    <tr>\n",
       "      <th>1</th>\n",
       "      <td>1.713893e+09</td>\n",
       "      <td>where did my points go?!?@?@?@</td>\n",
       "      <td>i had roughly 1500 points and when i went to u...</td>\n",
       "      <td>Chipotle</td>\n",
       "      <td>new</td>\n",
       "    </tr>\n",
       "    <tr>\n",
       "      <th>2</th>\n",
       "      <td>1.713890e+09</td>\n",
       "      <td>Pepper color…</td>\n",
       "      <td>Sitting here chomping down on my delicious bow...</td>\n",
       "      <td>Chipotle</td>\n",
       "      <td>new</td>\n",
       "    </tr>\n",
       "    <tr>\n",
       "      <th>3</th>\n",
       "      <td>1.713889e+09</td>\n",
       "      <td>Here’s why I don’t go to chipotle anymore</td>\n",
       "      <td>$13 with the drink from a small local business...</td>\n",
       "      <td>Chipotle</td>\n",
       "      <td>new</td>\n",
       "    </tr>\n",
       "    <tr>\n",
       "      <th>4</th>\n",
       "      <td>1.713888e+09</td>\n",
       "      <td>Fajita veggies</td>\n",
       "      <td>It’s absolutely insane you guys can’t have eno...</td>\n",
       "      <td>Chipotle</td>\n",
       "      <td>new</td>\n",
       "    </tr>\n",
       "  </tbody>\n",
       "</table>\n",
       "</div>"
      ],
      "text/plain": [
       "    created_utc                                      title  \\\n",
       "0  1.713893e+09              Free BOGO 9/22/24 Hockey Deal   \n",
       "1  1.713893e+09             where did my points go?!?@?@?@   \n",
       "2  1.713890e+09                              Pepper color…   \n",
       "3  1.713889e+09  Here’s why I don’t go to chipotle anymore   \n",
       "4  1.713888e+09                            Fajita veggies    \n",
       "\n",
       "                                           self_text subreddit sort  \n",
       "0  I had seen yesterday that there was a bogo dea...  Chipotle  new  \n",
       "1  i had roughly 1500 points and when i went to u...  Chipotle  new  \n",
       "2  Sitting here chomping down on my delicious bow...  Chipotle  new  \n",
       "3  $13 with the drink from a small local business...  Chipotle  new  \n",
       "4  It’s absolutely insane you guys can’t have eno...  Chipotle  new  "
      ]
     },
     "execution_count": 46,
     "metadata": {},
     "output_type": "execute_result"
    }
   ],
   "source": [
    "df = pd.concat([chipotle, qdoba], ignore_index=True)\n",
    "df.head()"
   ]
  },
  {
   "cell_type": "code",
   "execution_count": 47,
   "id": "0396b28e-ec20-45ec-8946-261b7fd7384d",
   "metadata": {},
   "outputs": [
    {
     "data": {
      "text/plain": [
       "(4693, 5)"
      ]
     },
     "execution_count": 47,
     "metadata": {},
     "output_type": "execute_result"
    }
   ],
   "source": [
    "df.shape"
   ]
  },
  {
   "cell_type": "code",
   "execution_count": 48,
   "id": "0b276ef8-44de-4601-b369-f4a940f3a5bf",
   "metadata": {},
   "outputs": [
    {
     "data": {
      "text/plain": [
       "0"
      ]
     },
     "execution_count": 48,
     "metadata": {},
     "output_type": "execute_result"
    }
   ],
   "source": [
    "df.isna().sum().sum()"
   ]
  },
  {
   "cell_type": "code",
   "execution_count": 49,
   "id": "39fdfc24-a53f-4033-927d-dd6e7784f7ce",
   "metadata": {},
   "outputs": [
    {
     "data": {
      "text/plain": [
       "array([Subreddit(display_name='Chipotle'),\n",
       "       Subreddit(display_name='qdoba')], dtype=object)"
      ]
     },
     "execution_count": 49,
     "metadata": {},
     "output_type": "execute_result"
    }
   ],
   "source": [
    "df['subreddit'].unique()"
   ]
  },
  {
   "cell_type": "markdown",
   "id": "328ea32b-1bae-492d-a222-21d08222765a",
   "metadata": {},
   "source": [
    "### Binarizing the subreddit column so I can build my model"
   ]
  },
  {
   "cell_type": "code",
   "execution_count": 50,
   "id": "26b21849-1756-4bb9-a680-5e50c2788a6a",
   "metadata": {},
   "outputs": [],
   "source": [
    "le = LabelEncoder()\n",
    "\n",
    "subreddit_names = df['subreddit'].apply(lambda x: x.display_name)\n",
    "\n",
    "df['subreddit'] = le.fit_transform(subreddit_names)"
   ]
  },
  {
   "cell_type": "code",
   "execution_count": 51,
   "id": "70abf2a0-67cb-43d4-a661-728ba3af3ede",
   "metadata": {},
   "outputs": [
    {
     "data": {
      "text/html": [
       "<div>\n",
       "<style scoped>\n",
       "    .dataframe tbody tr th:only-of-type {\n",
       "        vertical-align: middle;\n",
       "    }\n",
       "\n",
       "    .dataframe tbody tr th {\n",
       "        vertical-align: top;\n",
       "    }\n",
       "\n",
       "    .dataframe thead th {\n",
       "        text-align: right;\n",
       "    }\n",
       "</style>\n",
       "<table border=\"1\" class=\"dataframe\">\n",
       "  <thead>\n",
       "    <tr style=\"text-align: right;\">\n",
       "      <th></th>\n",
       "      <th>created_utc</th>\n",
       "      <th>title</th>\n",
       "      <th>self_text</th>\n",
       "      <th>subreddit</th>\n",
       "      <th>sort</th>\n",
       "    </tr>\n",
       "  </thead>\n",
       "  <tbody>\n",
       "    <tr>\n",
       "      <th>0</th>\n",
       "      <td>1.713893e+09</td>\n",
       "      <td>Free BOGO 9/22/24 Hockey Deal</td>\n",
       "      <td>I had seen yesterday that there was a bogo dea...</td>\n",
       "      <td>0</td>\n",
       "      <td>new</td>\n",
       "    </tr>\n",
       "    <tr>\n",
       "      <th>1</th>\n",
       "      <td>1.713893e+09</td>\n",
       "      <td>where did my points go?!?@?@?@</td>\n",
       "      <td>i had roughly 1500 points and when i went to u...</td>\n",
       "      <td>0</td>\n",
       "      <td>new</td>\n",
       "    </tr>\n",
       "    <tr>\n",
       "      <th>2</th>\n",
       "      <td>1.713890e+09</td>\n",
       "      <td>Pepper color…</td>\n",
       "      <td>Sitting here chomping down on my delicious bow...</td>\n",
       "      <td>0</td>\n",
       "      <td>new</td>\n",
       "    </tr>\n",
       "    <tr>\n",
       "      <th>3</th>\n",
       "      <td>1.713889e+09</td>\n",
       "      <td>Here’s why I don’t go to chipotle anymore</td>\n",
       "      <td>$13 with the drink from a small local business...</td>\n",
       "      <td>0</td>\n",
       "      <td>new</td>\n",
       "    </tr>\n",
       "    <tr>\n",
       "      <th>4</th>\n",
       "      <td>1.713888e+09</td>\n",
       "      <td>Fajita veggies</td>\n",
       "      <td>It’s absolutely insane you guys can’t have eno...</td>\n",
       "      <td>0</td>\n",
       "      <td>new</td>\n",
       "    </tr>\n",
       "    <tr>\n",
       "      <th>...</th>\n",
       "      <td>...</td>\n",
       "      <td>...</td>\n",
       "      <td>...</td>\n",
       "      <td>...</td>\n",
       "      <td>...</td>\n",
       "    </tr>\n",
       "    <tr>\n",
       "      <th>4688</th>\n",
       "      <td>1.363154e+09</td>\n",
       "      <td>Free Burritos?</td>\n",
       "      <td>If you come in to the Issaquah, WA store next ...</td>\n",
       "      <td>1</td>\n",
       "      <td>controversial</td>\n",
       "    </tr>\n",
       "    <tr>\n",
       "      <th>4689</th>\n",
       "      <td>1.360524e+09</td>\n",
       "      <td>Is there any way to find out what e-mail is as...</td>\n",
       "      <td>Totally forgot what e-mail I used to log-in at...</td>\n",
       "      <td>1</td>\n",
       "      <td>controversial</td>\n",
       "    </tr>\n",
       "    <tr>\n",
       "      <th>4690</th>\n",
       "      <td>1.345751e+09</td>\n",
       "      <td>Qdoba logic</td>\n",
       "      <td>Sign says guacamole is free for all veggie bow...</td>\n",
       "      <td>1</td>\n",
       "      <td>controversial</td>\n",
       "    </tr>\n",
       "    <tr>\n",
       "      <th>4691</th>\n",
       "      <td>1.344575e+09</td>\n",
       "      <td>It's been a little slow!</td>\n",
       "      <td>The subreddits been a little slow! I mean, the...</td>\n",
       "      <td>1</td>\n",
       "      <td>controversial</td>\n",
       "    </tr>\n",
       "    <tr>\n",
       "      <th>4692</th>\n",
       "      <td>1.342987e+09</td>\n",
       "      <td>Has anyone noticed they took out the Poblano P...</td>\n",
       "      <td>That was one of my favorite items. If I didn't...</td>\n",
       "      <td>1</td>\n",
       "      <td>controversial</td>\n",
       "    </tr>\n",
       "  </tbody>\n",
       "</table>\n",
       "<p>4693 rows × 5 columns</p>\n",
       "</div>"
      ],
      "text/plain": [
       "       created_utc                                              title  \\\n",
       "0     1.713893e+09                      Free BOGO 9/22/24 Hockey Deal   \n",
       "1     1.713893e+09                     where did my points go?!?@?@?@   \n",
       "2     1.713890e+09                                      Pepper color…   \n",
       "3     1.713889e+09          Here’s why I don’t go to chipotle anymore   \n",
       "4     1.713888e+09                                    Fajita veggies    \n",
       "...            ...                                                ...   \n",
       "4688  1.363154e+09                                     Free Burritos?   \n",
       "4689  1.360524e+09  Is there any way to find out what e-mail is as...   \n",
       "4690  1.345751e+09                                        Qdoba logic   \n",
       "4691  1.344575e+09                          It's been a little slow!    \n",
       "4692  1.342987e+09  Has anyone noticed they took out the Poblano P...   \n",
       "\n",
       "                                              self_text  subreddit  \\\n",
       "0     I had seen yesterday that there was a bogo dea...          0   \n",
       "1     i had roughly 1500 points and when i went to u...          0   \n",
       "2     Sitting here chomping down on my delicious bow...          0   \n",
       "3     $13 with the drink from a small local business...          0   \n",
       "4     It’s absolutely insane you guys can’t have eno...          0   \n",
       "...                                                 ...        ...   \n",
       "4688  If you come in to the Issaquah, WA store next ...          1   \n",
       "4689  Totally forgot what e-mail I used to log-in at...          1   \n",
       "4690  Sign says guacamole is free for all veggie bow...          1   \n",
       "4691  The subreddits been a little slow! I mean, the...          1   \n",
       "4692  That was one of my favorite items. If I didn't...          1   \n",
       "\n",
       "               sort  \n",
       "0               new  \n",
       "1               new  \n",
       "2               new  \n",
       "3               new  \n",
       "4               new  \n",
       "...             ...  \n",
       "4688  controversial  \n",
       "4689  controversial  \n",
       "4690  controversial  \n",
       "4691  controversial  \n",
       "4692  controversial  \n",
       "\n",
       "[4693 rows x 5 columns]"
      ]
     },
     "execution_count": 51,
     "metadata": {},
     "output_type": "execute_result"
    }
   ],
   "source": [
    "df"
   ]
  },
  {
   "cell_type": "markdown",
   "id": "daa8814c-3e1f-476d-ad49-13aea32ced16",
   "metadata": {},
   "source": [
    "### Exporting Dataframes to CSV"
   ]
  },
  {
   "cell_type": "code",
   "execution_count": 42,
   "id": "a8c05a5e-482e-4260-8506-98eb4c87362d",
   "metadata": {
    "tags": []
   },
   "outputs": [],
   "source": [
    "#final df with chipotle and qdoba data concatenated\n",
    "df.to_csv('./data/merged_dfs.csv', index=False)"
   ]
  },
  {
   "cell_type": "code",
   "execution_count": 43,
   "id": "6b8478a0-84be-4c17-a448-ffe2935e7b4e",
   "metadata": {},
   "outputs": [],
   "source": [
    "#chipotle data\n",
    "chipotle.to_csv('./data/chipotle_raw.csv', index = False)"
   ]
  },
  {
   "cell_type": "code",
   "execution_count": 44,
   "id": "311a341e-fc2d-419c-90ad-75e0b739a14e",
   "metadata": {},
   "outputs": [],
   "source": [
    "#qdoba data\n",
    "qdoba.to_csv('./data/qdoba_raw.csv', index = False)"
   ]
  }
 ],
 "metadata": {
  "kernelspec": {
   "display_name": "Python 3 (ipykernel)",
   "language": "python",
   "name": "python3"
  },
  "language_info": {
   "codemirror_mode": {
    "name": "ipython",
    "version": 3
   },
   "file_extension": ".py",
   "mimetype": "text/x-python",
   "name": "python",
   "nbconvert_exporter": "python",
   "pygments_lexer": "ipython3",
   "version": "3.11.7"
  }
 },
 "nbformat": 4,
 "nbformat_minor": 5
}
