{
 "cells": [
  {
   "cell_type": "markdown",
   "id": "01a3fe19-2061-4bef-996d-30e4f57ea7c6",
   "metadata": {},
   "source": [
    "## Modeling"
   ]
  },
  {
   "cell_type": "code",
   "execution_count": 1,
   "id": "f1dfc6dc-f58a-4bb2-90ed-7897975ca409",
   "metadata": {},
   "outputs": [],
   "source": [
    "#imports\n",
    "import pandas as pd\n",
    "import numpy as np\n",
    "import matplotlib.pyplot as plt\n",
    "import seaborn as sns\n",
    "\n",
    "from sklearn.ensemble import RandomForestClassifier\n",
    "from sklearn.neighbors import KNeighborsClassifier\n",
    "from sklearn.naive_bayes import MultinomialNB\n",
    "from sklearn.linear_model import LogisticRegression\n",
    "from sklearn.model_selection import GridSearchCV, train_test_split\n",
    "from sklearn.pipeline import Pipeline\n",
    "from sklearn.metrics import classification_report, ConfusionMatrixDisplay, RocCurveDisplay\n",
    "from sklearn.feature_extraction.text import CountVectorizer, TfidfVectorizer\n",
    "import spacy\n",
    "from sklearn.feature_extraction.text import ENGLISH_STOP_WORDS\n",
    "from sklearn.feature_extraction import text \n",
    "\n",
    "\n",
    "import warnings\n",
    "warnings.filterwarnings(\"ignore\")"
   ]
  },
  {
   "cell_type": "code",
   "execution_count": 2,
   "id": "e794f08c-2a55-4e99-be51-c30915249821",
   "metadata": {},
   "outputs": [],
   "source": [
    "#reading data\n",
    "subreddits = pd.read_csv('./data/merged_dfs.csv')"
   ]
  },
  {
   "cell_type": "code",
   "execution_count": 3,
   "id": "075f8cc9-2f09-4689-a894-c69d0ae66c06",
   "metadata": {},
   "outputs": [
    {
     "data": {
      "text/html": [
       "<div>\n",
       "<style scoped>\n",
       "    .dataframe tbody tr th:only-of-type {\n",
       "        vertical-align: middle;\n",
       "    }\n",
       "\n",
       "    .dataframe tbody tr th {\n",
       "        vertical-align: top;\n",
       "    }\n",
       "\n",
       "    .dataframe thead th {\n",
       "        text-align: right;\n",
       "    }\n",
       "</style>\n",
       "<table border=\"1\" class=\"dataframe\">\n",
       "  <thead>\n",
       "    <tr style=\"text-align: right;\">\n",
       "      <th></th>\n",
       "      <th>created_utc</th>\n",
       "      <th>title</th>\n",
       "      <th>self_text</th>\n",
       "      <th>subreddit</th>\n",
       "      <th>sort</th>\n",
       "    </tr>\n",
       "  </thead>\n",
       "  <tbody>\n",
       "    <tr>\n",
       "      <th>0</th>\n",
       "      <td>1.713893e+09</td>\n",
       "      <td>Free BOGO 9/22/24 Hockey Deal</td>\n",
       "      <td>I had seen yesterday that there was a bogo dea...</td>\n",
       "      <td>0</td>\n",
       "      <td>new</td>\n",
       "    </tr>\n",
       "    <tr>\n",
       "      <th>1</th>\n",
       "      <td>1.713893e+09</td>\n",
       "      <td>where did my points go?!?@?@?@</td>\n",
       "      <td>i had roughly 1500 points and when i went to u...</td>\n",
       "      <td>0</td>\n",
       "      <td>new</td>\n",
       "    </tr>\n",
       "    <tr>\n",
       "      <th>2</th>\n",
       "      <td>1.713890e+09</td>\n",
       "      <td>Pepper color…</td>\n",
       "      <td>Sitting here chomping down on my delicious bow...</td>\n",
       "      <td>0</td>\n",
       "      <td>new</td>\n",
       "    </tr>\n",
       "    <tr>\n",
       "      <th>3</th>\n",
       "      <td>1.713889e+09</td>\n",
       "      <td>Here’s why I don’t go to chipotle anymore</td>\n",
       "      <td>$13 with the drink from a small local business...</td>\n",
       "      <td>0</td>\n",
       "      <td>new</td>\n",
       "    </tr>\n",
       "    <tr>\n",
       "      <th>4</th>\n",
       "      <td>1.713888e+09</td>\n",
       "      <td>Fajita veggies</td>\n",
       "      <td>It’s absolutely insane you guys can’t have eno...</td>\n",
       "      <td>0</td>\n",
       "      <td>new</td>\n",
       "    </tr>\n",
       "  </tbody>\n",
       "</table>\n",
       "</div>"
      ],
      "text/plain": [
       "    created_utc                                      title  \\\n",
       "0  1.713893e+09              Free BOGO 9/22/24 Hockey Deal   \n",
       "1  1.713893e+09             where did my points go?!?@?@?@   \n",
       "2  1.713890e+09                              Pepper color…   \n",
       "3  1.713889e+09  Here’s why I don’t go to chipotle anymore   \n",
       "4  1.713888e+09                            Fajita veggies    \n",
       "\n",
       "                                           self_text  subreddit sort  \n",
       "0  I had seen yesterday that there was a bogo dea...          0  new  \n",
       "1  i had roughly 1500 points and when i went to u...          0  new  \n",
       "2  Sitting here chomping down on my delicious bow...          0  new  \n",
       "3  $13 with the drink from a small local business...          0  new  \n",
       "4  It’s absolutely insane you guys can’t have eno...          0  new  "
      ]
     },
     "execution_count": 3,
     "metadata": {},
     "output_type": "execute_result"
    }
   ],
   "source": [
    "subreddits.head()"
   ]
  },
  {
   "cell_type": "code",
   "execution_count": 4,
   "id": "8e908caf-12c4-44a2-afb1-6c74d1389a8b",
   "metadata": {},
   "outputs": [
    {
     "data": {
      "text/plain": [
       "0"
      ]
     },
     "execution_count": 4,
     "metadata": {},
     "output_type": "execute_result"
    }
   ],
   "source": [
    "#checking to make sure everything merged properly\n",
    "subreddits.isna().sum().sum()"
   ]
  },
  {
   "cell_type": "code",
   "execution_count": 5,
   "id": "bd36c8f1-e7ea-4dbb-b1fb-c3b956d5b5d4",
   "metadata": {},
   "outputs": [
    {
     "data": {
      "text/plain": [
       "(4693, 5)"
      ]
     },
     "execution_count": 5,
     "metadata": {},
     "output_type": "execute_result"
    }
   ],
   "source": [
    "subreddits.shape"
   ]
  },
  {
   "cell_type": "markdown",
   "id": "51ee98f6-f057-49f7-a5f6-131666b67871",
   "metadata": {},
   "source": [
    "Everything looks like it was imported correctly. So, now let's start building models :)"
   ]
  },
  {
   "cell_type": "markdown",
   "id": "d86246af-e893-493b-9d4a-9e090b82436a",
   "metadata": {},
   "source": [
    "## TTS"
   ]
  },
  {
   "cell_type": "code",
   "execution_count": 6,
   "id": "bb11b7d5-13fb-4840-a055-0881729de8b3",
   "metadata": {},
   "outputs": [],
   "source": [
    "#splitting data into target and features \n",
    "X = subreddits['self_text']\n",
    "y = subreddits['subreddit']\n",
    "\n",
    "X_train, X_test, y_train, y_test = train_test_split(X,y, test_size=.20, random_state = 66)"
   ]
  },
  {
   "cell_type": "markdown",
   "id": "d5d3f300-d992-4002-8573-d140223b85ab",
   "metadata": {},
   "source": [
    "## Baseline"
   ]
  },
  {
   "cell_type": "code",
   "execution_count": 7,
   "id": "cff3881b-a9d5-4ae1-acb8-62433e49aa57",
   "metadata": {},
   "outputs": [
    {
     "data": {
      "text/plain": [
       "subreddit\n",
       "0    0.609418\n",
       "1    0.390582\n",
       "Name: proportion, dtype: float64"
      ]
     },
     "execution_count": 7,
     "metadata": {},
     "output_type": "execute_result"
    }
   ],
   "source": [
    "#calculating baseline to compare models \n",
    "y.value_counts(normalize = True)"
   ]
  },
  {
   "cell_type": "markdown",
   "id": "b6c0ced4-d3c2-4280-905d-340743ffdd10",
   "metadata": {},
   "source": [
    "###### Note: `Chipotle` is encoded as 0 and `qdoba` is encoded as 1"
   ]
  },
  {
   "cell_type": "markdown",
   "id": "8d624256-768b-42c1-bc88-9a21e602977f",
   "metadata": {},
   "source": [
    "The baseline indicates that if I were to guess which subreddit a post came from, I could guess `chipotle` and have a 60% chance at being correct"
   ]
  },
  {
   "cell_type": "markdown",
   "id": "9770490f-f542-4e4b-b12f-cd49a7776402",
   "metadata": {},
   "source": [
    "## Stop Words"
   ]
  },
  {
   "cell_type": "code",
   "execution_count": 8,
   "id": "305e8bf2-bef0-44d2-b269-c02357222ce3",
   "metadata": {},
   "outputs": [],
   "source": [
    "#adding additional top words so model cant easily predict subreddits\n",
    "stopwords_bias = ['qdoba', 'chipotle', 'Chipotle', 'Qdoba', 'CHIPOTLE', 'QDOBA']\n",
    "default_stopwords = text.ENGLISH_STOP_WORDS\n",
    "\n",
    "def stopwords_merger(stopwords_bias):\n",
    "    return list(stopwords_bias) + list(default_stopwords)"
   ]
  },
  {
   "cell_type": "markdown",
   "id": "7dd7df21-7353-4ab3-ad6e-bc061641347d",
   "metadata": {},
   "source": [
    "## Logistic Regression"
   ]
  },
  {
   "cell_type": "code",
   "execution_count": 9,
   "id": "17f50429-75a6-4eac-8817-d35f332b468d",
   "metadata": {},
   "outputs": [],
   "source": [
    "#lgr pipeline to do cvec and tfidf with hyperparamter grid search\n",
    "def lgr_pipeliner(X_train, y_train, vectorizer):\n",
    "    if vectorizer == 'cvec':\n",
    "        params = {\n",
    "            'cvec__max_features': [100, 200, 500, 1000],\n",
    "            'cvec__stop_words': [stopwords_merger(stopwords_bias)],\n",
    "            'cvec__ngram_range': [(1, 1), (1, 2)],\n",
    "            'model__C': [0.1, 1, 10],\n",
    "            'model__class_weight': [None, 'balanced']\n",
    "\n",
    "        }\n",
    "        pipeline = Pipeline([\n",
    "            ('cvec', CountVectorizer()),\n",
    "            ('model', LogisticRegression(max_iter=1000))\n",
    "        ])\n",
    "    elif vectorizer == 'tfidf':\n",
    "        tfidf_params = {\n",
    "            'tfidf__max_features': [100, 200, 500, 1000],\n",
    "            'tfidf__stop_words': [stopwords_merger(stopwords_bias)],\n",
    "            'tfidf__ngram_range': [(1, 1), (1, 2)],\n",
    "            'model__C': [0.1, 1, 10],\n",
    "            'model__class_weight': [None, 'balanced']\n",
    "\n",
    "        }\n",
    "        pipeline = Pipeline([\n",
    "            ('tfidf', TfidfVectorizer()),\n",
    "            ('model', LogisticRegression(max_iter=1000))\n",
    "        ])\n",
    "\n",
    "    grid_search = GridSearchCV(pipeline, param_grid=params if vectorizer == 'cvec' else tfidf_params)\n",
    "    grid_search.fit(X_train, y_train)\n",
    "    \n",
    "    return grid_search"
   ]
  },
  {
   "cell_type": "markdown",
   "id": "d0e92fa9-e7b8-4c53-8dfd-44a9235c6502",
   "metadata": {},
   "source": [
    "### CVEC"
   ]
  },
  {
   "cell_type": "code",
   "execution_count": 10,
   "id": "7c1b86d4-d119-4650-a8c3-eba504dbe5fc",
   "metadata": {},
   "outputs": [],
   "source": [
    "lgr_cvec_grid = lgr_pipeliner(X_train, y_train, 'cvec')"
   ]
  },
  {
   "cell_type": "code",
   "execution_count": 11,
   "id": "670ad5ef-57c1-4798-97be-d7b3d6b97c2f",
   "metadata": {},
   "outputs": [
    {
     "name": "stdout",
     "output_type": "stream",
     "text": [
      "LGR CVEC GRID Train Score: 0.985881726158764\n",
      "LGR CVEC GRID Test Score: 0.9371671991480298\n",
      "-----------\n",
      "LGR CVEC PERFORMANCE with TUNING: 0.9059692853972481\n"
     ]
    }
   ],
   "source": [
    "print(\"LGR CVEC GRID Train Score:\", lgr_cvec_grid.score(X_train, y_train))\n",
    "print(\"LGR CVEC GRID Test Score:\", lgr_cvec_grid.score(X_test, y_test))\n",
    "print(\"-----------\")\n",
    "print(\"LGR CVEC PERFORMANCE with TUNING:\", lgr_cvec_grid.best_score_)"
   ]
  },
  {
   "cell_type": "markdown",
   "id": "58f02e12-175c-45c0-99f7-a28216d80a1e",
   "metadata": {},
   "source": [
    "### TFIDF"
   ]
  },
  {
   "cell_type": "code",
   "execution_count": 12,
   "id": "c81220e1-1de7-41f4-85f8-bee71b58457d",
   "metadata": {},
   "outputs": [],
   "source": [
    "lgr_tfidf_grid = lgr_pipeliner(X_train, y_train, 'tfidf')"
   ]
  },
  {
   "cell_type": "code",
   "execution_count": 13,
   "id": "f6dcd414-d32e-4c3d-886b-caa60fae7af6",
   "metadata": {},
   "outputs": [
    {
     "name": "stdout",
     "output_type": "stream",
     "text": [
      "LGR TFIDF GRID Train Score: 0.9552477357485349\n",
      "LGR TFIDF GRID Test Score: 0.9158679446219382\n",
      "-----------\n",
      "LGR TFIDF PERFORMANCE with TUNING: 0.8803959165557036\n"
     ]
    }
   ],
   "source": [
    "print(\"LGR TFIDF GRID Train Score:\", lgr_tfidf_grid.score(X_train, y_train))\n",
    "print(\"LGR TFIDF GRID Test Score:\", lgr_tfidf_grid.score(X_test, y_test))\n",
    "print(\"-----------\")\n",
    "print(\"LGR TFIDF PERFORMANCE with TUNING:\", lgr_tfidf_grid.best_score_)"
   ]
  },
  {
   "cell_type": "markdown",
   "id": "f95ecc80-3641-441c-ace4-a013619bc7f3",
   "metadata": {},
   "source": [
    "#### The best NLP model for logistic regression seems to be the model using CountVectorizer. It has the best performance after being tuned with a 90.5% accuracy score. I will use this model for consideration when comparing the next model I will develop."
   ]
  },
  {
   "cell_type": "markdown",
   "id": "e4291b5f-68f1-4724-a80a-7714442eedbe",
   "metadata": {},
   "source": [
    "## Naive Bayes"
   ]
  },
  {
   "cell_type": "code",
   "execution_count": 14,
   "id": "abf30537-a9f3-4f00-9be1-1a1f5a7e7f45",
   "metadata": {},
   "outputs": [],
   "source": [
    "#nb pipeline to do cvec and tfidf with hyperparamter grid search\n",
    "def nb_pipeliner(X_train, y_train, vectorizer):\n",
    "    if vectorizer == 'cvec':\n",
    "        params = {\n",
    "            'cvec__max_features': [100, 200, 500, 1000],\n",
    "            'cvec__stop_words': [stopwords_merger(stopwords_bias)],\n",
    "            'cvec__ngram_range': [(1, 1), (1, 2)],\n",
    "            'model__alpha': [0.1, 0.5, 1.0],\n",
    "        }\n",
    "        pipeline = Pipeline([\n",
    "            ('cvec', CountVectorizer()),\n",
    "            ('model', MultinomialNB())\n",
    "        ])\n",
    "    elif vectorizer == 'tfidf':\n",
    "        tfidf_params = {\n",
    "            'tfidf__max_features': [100, 200, 500, 1000],\n",
    "            'tfidf__stop_words': [stopwords_merger(stopwords_bias)],\n",
    "            'tfidf__ngram_range': [(1, 1), (1, 2)],\n",
    "            'model__alpha': [0.1, 0.5, 1.0]\n",
    "        }\n",
    "        pipeline = Pipeline([\n",
    "            ('tfidf', TfidfVectorizer()),\n",
    "            ('model', MultinomialNB())\n",
    "        ])\n",
    "\n",
    "    grid_search = GridSearchCV(pipeline, param_grid=params if vectorizer == 'cvec' else tfidf_params)\n",
    "    grid_search.fit(X_train, y_train)\n",
    "    \n",
    "    return grid_search"
   ]
  },
  {
   "cell_type": "markdown",
   "id": "fdcebe29-5adc-4e3f-bf95-f800b614c415",
   "metadata": {},
   "source": [
    "### CVEC"
   ]
  },
  {
   "cell_type": "code",
   "execution_count": 15,
   "id": "be035f45-8ff3-4720-9b3c-e1cffc5a4e95",
   "metadata": {},
   "outputs": [],
   "source": [
    "nb_cvec_grid = nb_pipeliner(X_train, y_train, 'cvec')"
   ]
  },
  {
   "cell_type": "code",
   "execution_count": 16,
   "id": "0cbd2d83-e974-496b-9068-3fb30b47a2ae",
   "metadata": {},
   "outputs": [
    {
     "name": "stdout",
     "output_type": "stream",
     "text": [
      "NB CVEC GRID Train Score: 0.8332445391582313\n",
      "NB CVEC GRID Test Score: 0.8072417465388712\n",
      "-----------\n",
      "NB CVEC PERFORMANCE with TUNING: 0.806610563692854\n"
     ]
    }
   ],
   "source": [
    "print(\"NB CVEC GRID Train Score:\", nb_cvec_grid.score(X_train, y_train))\n",
    "print(\"NB CVEC GRID Test Score:\", nb_cvec_grid.score(X_test, y_test))\n",
    "print(\"-----------\")\n",
    "print(\"NB CVEC PERFORMANCE with TUNING:\", nb_cvec_grid.best_score_)"
   ]
  },
  {
   "cell_type": "markdown",
   "id": "85ade74b-76f9-4466-8b8d-c5d476965af8",
   "metadata": {},
   "source": [
    "### TFIDF"
   ]
  },
  {
   "cell_type": "code",
   "execution_count": 17,
   "id": "6ac9ee8a-b864-4bba-a43d-bdee8f7cea7a",
   "metadata": {},
   "outputs": [],
   "source": [
    "nb_tfidf_grid = nb_pipeliner(X_train, y_train, 'tfidf')"
   ]
  },
  {
   "cell_type": "code",
   "execution_count": 18,
   "id": "6464b97e-8db7-499c-b3f1-669710c749ce",
   "metadata": {},
   "outputs": [
    {
     "name": "stdout",
     "output_type": "stream",
     "text": [
      "NB TFIDF GRID Train Score: 0.8470964304741609\n",
      "NB TFIDF GRID Test Score: 0.820021299254526\n",
      "-----------\n",
      "NB TFIDF PERFORMANCE with TUNING: 0.8167314691522414\n"
     ]
    }
   ],
   "source": [
    "print(\"NB TFIDF GRID Train Score:\", nb_tfidf_grid.score(X_train, y_train))\n",
    "print(\"NB TFIDF GRID Test Score:\", nb_tfidf_grid.score(X_test, y_test))\n",
    "print(\"-----------\")\n",
    "print(\"NB TFIDF PERFORMANCE with TUNING:\", nb_tfidf_grid.best_score_)"
   ]
  },
  {
   "cell_type": "markdown",
   "id": "b86f2287-420e-4e72-a57e-8808c607f311",
   "metadata": {
    "jp-MarkdownHeadingCollapsed": true
   },
   "source": [
    "#### The best NLP model for Naive Bayes seems to be the model using TFIDFVectorizer. It has the best performance after being tuned with a 81.6% accuracy score. I will use this model for consideration when comparing the next model I will develop."
   ]
  },
  {
   "cell_type": "markdown",
   "id": "fb5fc019-6041-4818-bf66-3ae9a5eac2ce",
   "metadata": {},
   "source": [
    "## KNN with CVEC"
   ]
  },
  {
   "cell_type": "code",
   "execution_count": 19,
   "id": "3a49f1c7-6140-485b-8e28-3c0861599469",
   "metadata": {},
   "outputs": [],
   "source": [
    "#knn pipeline to do cvec and tfidf with hyperparamter grid search\n",
    "def knn_pipeliner(X_train, y_train, vectorizer):\n",
    "    vectorizer == 'cvec'\n",
    "    params = {\n",
    "        'cvec__max_features': [100, 200, 500, 1000],\n",
    "        'cvec__stop_words': [stopwords_merger(stopwords_bias)],\n",
    "        'cvec__ngram_range': [(1, 1), (1, 2)],\n",
    "        'model__n_neighbors': [3, 5, 7, 9], \n",
    "        'model__weights': ['uniform', 'distance']\n",
    "    }\n",
    "    pipeline = Pipeline([\n",
    "        ('cvec', CountVectorizer()),\n",
    "        ('model', KNeighborsClassifier())\n",
    "        ])\n",
    "    \n",
    "    grid_search = GridSearchCV(pipeline, param_grid=params)\n",
    "    grid_search.fit(X_train, y_train)\n",
    "    \n",
    "    return grid_search"
   ]
  },
  {
   "cell_type": "code",
   "execution_count": 20,
   "id": "893ba569-3ca1-4d9a-a74c-d9286f72b6f4",
   "metadata": {},
   "outputs": [],
   "source": [
    "knn_cvec_grid = knn_pipeliner(X_train, y_train, 'cvec')"
   ]
  },
  {
   "cell_type": "code",
   "execution_count": 21,
   "id": "b18d531f-4e49-4720-a2d9-3476959cc526",
   "metadata": {},
   "outputs": [
    {
     "name": "stdout",
     "output_type": "stream",
     "text": [
      "KNN CVEC GRID Train Score: 0.9933404368673415\n",
      "KNN CVEC GRID Test Score: 0.9648562300319489\n",
      "-----------\n",
      "KNN CVEC PERFORMANCE with TUNING: 0.9384632046160675\n"
     ]
    }
   ],
   "source": [
    "print(\"KNN CVEC GRID Train Score:\", knn_cvec_grid.score(X_train, y_train))\n",
    "print(\"KNN CVEC GRID Test Score:\", knn_cvec_grid.score(X_test, y_test))\n",
    "print(\"-----------\")\n",
    "print(\"KNN CVEC PERFORMANCE with TUNING:\", knn_cvec_grid.best_score_)"
   ]
  },
  {
   "cell_type": "markdown",
   "id": "6a8bb4cf-f6a6-41b5-9b85-a66da0b09bfe",
   "metadata": {},
   "source": [
    "## Random Forest"
   ]
  },
  {
   "cell_type": "code",
   "execution_count": 22,
   "id": "62ab0205-a667-4861-a057-2465e0e74bed",
   "metadata": {},
   "outputs": [],
   "source": [
    "#rf pipeline to do cvec and tfidf with hyperparamter grid search\n",
    "def rf_pipeliner(X_train, y_train, vectorizer):\n",
    "    if vectorizer == 'cvec':\n",
    "        params = {\n",
    "            'cvec__max_features': [100, 200, 500, 1000],\n",
    "            'cvec__stop_words': [stopwords_merger(stopwords_bias)],\n",
    "            'cvec__ngram_range': [(1, 1), (1, 2)],\n",
    "            'model__max_depth': [None, 10, 20]\n",
    "        }\n",
    "        pipeline = Pipeline([\n",
    "            ('cvec', CountVectorizer()),\n",
    "            ('model', RandomForestClassifier())\n",
    "        ])\n",
    "    elif vectorizer == 'tfidf':\n",
    "        params = {\n",
    "            'tfidf__max_features': [100, 200, 500, 1000],\n",
    "            'tfidf__stop_words': [stopwords_merger(stopwords_bias)],\n",
    "            'tfidf__ngram_range': [(1, 1), (1, 2)],\n",
    "            'model__max_depth': [None, 10, 20]\n",
    "        }\n",
    "        pipeline = Pipeline([\n",
    "            ('tfidf', TfidfVectorizer()),\n",
    "            ('model', RandomForestClassifier())\n",
    "        ])\n",
    "    grid_search = GridSearchCV(pipeline, param_grid=params if vectorizer == 'cvec' else params)\n",
    "    grid_search.fit(X_train, y_train)\n",
    "    \n",
    "    return grid_search"
   ]
  },
  {
   "cell_type": "markdown",
   "id": "695e8022-b705-474b-91b9-25d0f3ae0d40",
   "metadata": {},
   "source": [
    "### CVEC"
   ]
  },
  {
   "cell_type": "code",
   "execution_count": 23,
   "id": "87060d1a-3116-4d91-a7d3-0434cfecd701",
   "metadata": {},
   "outputs": [],
   "source": [
    "rf_cvec_grid = rf_pipeliner(X_train, y_train, 'cvec')"
   ]
  },
  {
   "cell_type": "code",
   "execution_count": 24,
   "id": "ffe4d557-cfcd-4682-8d59-51b05df80796",
   "metadata": {},
   "outputs": [
    {
     "name": "stdout",
     "output_type": "stream",
     "text": [
      "RF CVEC GRID Train Score: 0.9933404368673415\n",
      "RF CVEC GRID Test Score: 0.972310969116081\n",
      "-----------\n",
      "RF CVEC PERFORMANCE with TUNING: 0.9456561029738128\n"
     ]
    }
   ],
   "source": [
    "print(\"RF CVEC GRID Train Score:\", rf_cvec_grid.score(X_train, y_train))\n",
    "print(\"RF CVEC GRID Test Score:\", rf_cvec_grid.score(X_test, y_test))\n",
    "print(\"-----------\")\n",
    "print(\"RF CVEC PERFORMANCE with TUNING:\", rf_cvec_grid.best_score_)"
   ]
  },
  {
   "cell_type": "markdown",
   "id": "101a2df0-2792-4257-83e4-6d15e19f7427",
   "metadata": {},
   "source": [
    "### TFIDF"
   ]
  },
  {
   "cell_type": "code",
   "execution_count": 25,
   "id": "56becb16-ab27-4112-b69e-843a5b450b2b",
   "metadata": {},
   "outputs": [],
   "source": [
    "rf_tfidf_grid = rf_pipeliner(X_train, y_train, 'tfidf')"
   ]
  },
  {
   "cell_type": "code",
   "execution_count": 26,
   "id": "0fa26e92-1853-41d1-b668-302861b10d32",
   "metadata": {},
   "outputs": [
    {
     "name": "stdout",
     "output_type": "stream",
     "text": [
      "RF TFIDF GRID Train Score: 0.9933404368673415\n",
      "RF TFIDF GRID Test Score: 0.9744408945686901\n",
      "-----------\n",
      "RF TFIDF PERFORMANCE with TUNING: 0.9477897913892587\n"
     ]
    }
   ],
   "source": [
    "print(\"RF TFIDF GRID Train Score:\", rf_tfidf_grid.score(X_train, y_train))\n",
    "print(\"RF TFIDF GRID Test Score:\", rf_tfidf_grid.score(X_test, y_test))\n",
    "print(\"-----------\")\n",
    "print(\"RF TFIDF PERFORMANCE with TUNING:\", rf_tfidf_grid.best_score_)"
   ]
  },
  {
   "cell_type": "markdown",
   "id": "22b6ccd1-1bdd-4b2f-908c-c95a92f4b1c9",
   "metadata": {},
   "source": [
    "#### The best NLP model for Random Forest seems to be the model using TFIDFVectorizer. It has the best performance after being tuned with a 94.77% accuracy score. I will use this model for consideration when choosing the best performing the model overall."
   ]
  },
  {
   "cell_type": "markdown",
   "id": "daa7cee8-05e4-4e46-8bd3-4d37d323c50a",
   "metadata": {},
   "source": [
    "## Best Model Overall"
   ]
  },
  {
   "cell_type": "code",
   "execution_count": 39,
   "id": "d36eae2b-3f1c-4e52-8a22-bc762e567c25",
   "metadata": {},
   "outputs": [
    {
     "data": {
      "text/html": [
       "<div>\n",
       "<style scoped>\n",
       "    .dataframe tbody tr th:only-of-type {\n",
       "        vertical-align: middle;\n",
       "    }\n",
       "\n",
       "    .dataframe tbody tr th {\n",
       "        vertical-align: top;\n",
       "    }\n",
       "\n",
       "    .dataframe thead th {\n",
       "        text-align: right;\n",
       "    }\n",
       "</style>\n",
       "<table border=\"1\" class=\"dataframe\">\n",
       "  <thead>\n",
       "    <tr style=\"text-align: right;\">\n",
       "      <th></th>\n",
       "      <th>estimators</th>\n",
       "      <th>train score acc</th>\n",
       "      <th>test score acc</th>\n",
       "    </tr>\n",
       "  </thead>\n",
       "  <tbody>\n",
       "    <tr>\n",
       "      <th>3</th>\n",
       "      <td>random forest tfidf</td>\n",
       "      <td>0.99334</td>\n",
       "      <td>0.974441</td>\n",
       "    </tr>\n",
       "    <tr>\n",
       "      <th>2</th>\n",
       "      <td>knn cvec</td>\n",
       "      <td>0.99334</td>\n",
       "      <td>0.964856</td>\n",
       "    </tr>\n",
       "    <tr>\n",
       "      <th>0</th>\n",
       "      <td>logreg cvec</td>\n",
       "      <td>0.985882</td>\n",
       "      <td>0.937167</td>\n",
       "    </tr>\n",
       "    <tr>\n",
       "      <th>1</th>\n",
       "      <td>naive bayes tfidf</td>\n",
       "      <td>0.847096</td>\n",
       "      <td>0.820021</td>\n",
       "    </tr>\n",
       "    <tr>\n",
       "      <th>4</th>\n",
       "      <td>baseline</td>\n",
       "      <td></td>\n",
       "      <td>0.609418</td>\n",
       "    </tr>\n",
       "  </tbody>\n",
       "</table>\n",
       "</div>"
      ],
      "text/plain": [
       "            estimators train score acc  test score acc\n",
       "3  random forest tfidf         0.99334        0.974441\n",
       "2             knn cvec         0.99334        0.964856\n",
       "0          logreg cvec        0.985882        0.937167\n",
       "1    naive bayes tfidf        0.847096        0.820021\n",
       "4             baseline                        0.609418"
      ]
     },
     "execution_count": 39,
     "metadata": {},
     "output_type": "execute_result"
    }
   ],
   "source": [
    "#retaining only the models that had the best tuning performance\n",
    "models = pd.DataFrame({'estimators': ['logreg cvec', \n",
    "                            'naive bayes tfidf',\n",
    "                            'knn cvec',\n",
    "                            'random forest tfidf',\n",
    "                            'baseline'],\n",
    "                       \n",
    "            'train score acc': [lgr_cvec_grid.score(X_train, y_train),\n",
    "                              nb_tfidf_grid.score(X_train, y_train),\n",
    "                              knn_cvec_grid.score(X_train, y_train),\n",
    "                              rf_tfidf_grid.score(X_train, y_train),\n",
    "                             ' '],\n",
    "                       \n",
    "              'test score acc': [lgr_cvec_grid.score(X_test, y_test),\n",
    "                              nb_tfidf_grid.score(X_test, y_test),\n",
    "                              knn_cvec_grid.score(X_test, y_test),\n",
    "                              rf_tfidf_grid.score(X_test, y_test),\n",
    "                             y.value_counts(normalize = True)[0]],\n",
    "                       \n",
    "         \n",
    "                \n",
    "             })\n",
    "#displaying models df with highest estimator based on test score accuracy\n",
    "models.sort_values(by = 'test score acc', ascending = False)"
   ]
  },
  {
   "cell_type": "markdown",
   "id": "2dad7488-eca4-453c-b932-27b2385e1ca9",
   "metadata": {},
   "source": [
    "The highest performing model was the `RandomForestClassifier` using `TfidfVectorizer`. It had an accuracy score of 97.4% on the test set. This indicates that the model performed better than the baseline which was only 60% accurate at predicting posts at random."
   ]
  },
  {
   "cell_type": "markdown",
   "id": "15f2ead3-cad7-49a6-9a4e-1cac55c16dbf",
   "metadata": {},
   "source": [
    "### Evaluations and Visualizations"
   ]
  },
  {
   "cell_type": "code",
   "execution_count": 28,
   "id": "aa27583c-3f83-43f3-8613-cd0d47726f21",
   "metadata": {},
   "outputs": [
    {
     "data": {
      "text/html": [
       "<style>#sk-container-id-1 {color: black;background-color: white;}#sk-container-id-1 pre{padding: 0;}#sk-container-id-1 div.sk-toggleable {background-color: white;}#sk-container-id-1 label.sk-toggleable__label {cursor: pointer;display: block;width: 100%;margin-bottom: 0;padding: 0.3em;box-sizing: border-box;text-align: center;}#sk-container-id-1 label.sk-toggleable__label-arrow:before {content: \"▸\";float: left;margin-right: 0.25em;color: #696969;}#sk-container-id-1 label.sk-toggleable__label-arrow:hover:before {color: black;}#sk-container-id-1 div.sk-estimator:hover label.sk-toggleable__label-arrow:before {color: black;}#sk-container-id-1 div.sk-toggleable__content {max-height: 0;max-width: 0;overflow: hidden;text-align: left;background-color: #f0f8ff;}#sk-container-id-1 div.sk-toggleable__content pre {margin: 0.2em;color: black;border-radius: 0.25em;background-color: #f0f8ff;}#sk-container-id-1 input.sk-toggleable__control:checked~div.sk-toggleable__content {max-height: 200px;max-width: 100%;overflow: auto;}#sk-container-id-1 input.sk-toggleable__control:checked~label.sk-toggleable__label-arrow:before {content: \"▾\";}#sk-container-id-1 div.sk-estimator input.sk-toggleable__control:checked~label.sk-toggleable__label {background-color: #d4ebff;}#sk-container-id-1 div.sk-label input.sk-toggleable__control:checked~label.sk-toggleable__label {background-color: #d4ebff;}#sk-container-id-1 input.sk-hidden--visually {border: 0;clip: rect(1px 1px 1px 1px);clip: rect(1px, 1px, 1px, 1px);height: 1px;margin: -1px;overflow: hidden;padding: 0;position: absolute;width: 1px;}#sk-container-id-1 div.sk-estimator {font-family: monospace;background-color: #f0f8ff;border: 1px dotted black;border-radius: 0.25em;box-sizing: border-box;margin-bottom: 0.5em;}#sk-container-id-1 div.sk-estimator:hover {background-color: #d4ebff;}#sk-container-id-1 div.sk-parallel-item::after {content: \"\";width: 100%;border-bottom: 1px solid gray;flex-grow: 1;}#sk-container-id-1 div.sk-label:hover label.sk-toggleable__label {background-color: #d4ebff;}#sk-container-id-1 div.sk-serial::before {content: \"\";position: absolute;border-left: 1px solid gray;box-sizing: border-box;top: 0;bottom: 0;left: 50%;z-index: 0;}#sk-container-id-1 div.sk-serial {display: flex;flex-direction: column;align-items: center;background-color: white;padding-right: 0.2em;padding-left: 0.2em;position: relative;}#sk-container-id-1 div.sk-item {position: relative;z-index: 1;}#sk-container-id-1 div.sk-parallel {display: flex;align-items: stretch;justify-content: center;background-color: white;position: relative;}#sk-container-id-1 div.sk-item::before, #sk-container-id-1 div.sk-parallel-item::before {content: \"\";position: absolute;border-left: 1px solid gray;box-sizing: border-box;top: 0;bottom: 0;left: 50%;z-index: -1;}#sk-container-id-1 div.sk-parallel-item {display: flex;flex-direction: column;z-index: 1;position: relative;background-color: white;}#sk-container-id-1 div.sk-parallel-item:first-child::after {align-self: flex-end;width: 50%;}#sk-container-id-1 div.sk-parallel-item:last-child::after {align-self: flex-start;width: 50%;}#sk-container-id-1 div.sk-parallel-item:only-child::after {width: 0;}#sk-container-id-1 div.sk-dashed-wrapped {border: 1px dashed gray;margin: 0 0.4em 0.5em 0.4em;box-sizing: border-box;padding-bottom: 0.4em;background-color: white;}#sk-container-id-1 div.sk-label label {font-family: monospace;font-weight: bold;display: inline-block;line-height: 1.2em;}#sk-container-id-1 div.sk-label-container {text-align: center;}#sk-container-id-1 div.sk-container {/* jupyter's `normalize.less` sets `[hidden] { display: none; }` but bootstrap.min.css set `[hidden] { display: none !important; }` so we also need the `!important` here to be able to override the default hidden behavior on the sphinx rendered scikit-learn.org. See: https://github.com/scikit-learn/scikit-learn/issues/21755 */display: inline-block !important;position: relative;}#sk-container-id-1 div.sk-text-repr-fallback {display: none;}</style><div id=\"sk-container-id-1\" class=\"sk-top-container\"><div class=\"sk-text-repr-fallback\"><pre>Pipeline(steps=[(&#x27;tfidf&#x27;,\n",
       "                 TfidfVectorizer(max_features=1000,\n",
       "                                 stop_words=[&#x27;qdoba&#x27;, &#x27;chipotle&#x27;, &#x27;Chipotle&#x27;,\n",
       "                                             &#x27;Qdoba&#x27;, &#x27;CHIPOTLE&#x27;, &#x27;QDOBA&#x27;,\n",
       "                                             &#x27;alone&#x27;, &#x27;such&#x27;, &#x27;name&#x27;, &#x27;our&#x27;,\n",
       "                                             &#x27;whose&#x27;, &#x27;thick&#x27;, &#x27;himself&#x27;,\n",
       "                                             &#x27;another&#x27;, &#x27;in&#x27;, &#x27;you&#x27;, &#x27;except&#x27;,\n",
       "                                             &#x27;themselves&#x27;, &#x27;by&#x27;, &#x27;un&#x27;,\n",
       "                                             &#x27;amongst&#x27;, &#x27;who&#x27;, &#x27;seemed&#x27;,\n",
       "                                             &#x27;about&#x27;, &#x27;somewhere&#x27;, &#x27;fifty&#x27;,\n",
       "                                             &#x27;latter&#x27;, &#x27;off&#x27;, &#x27;she&#x27;, &#x27;have&#x27;, ...])),\n",
       "                (&#x27;model&#x27;, RandomForestClassifier())])</pre><b>In a Jupyter environment, please rerun this cell to show the HTML representation or trust the notebook. <br />On GitHub, the HTML representation is unable to render, please try loading this page with nbviewer.org.</b></div><div class=\"sk-container\" hidden><div class=\"sk-item sk-dashed-wrapped\"><div class=\"sk-label-container\"><div class=\"sk-label sk-toggleable\"><input class=\"sk-toggleable__control sk-hidden--visually\" id=\"sk-estimator-id-1\" type=\"checkbox\" ><label for=\"sk-estimator-id-1\" class=\"sk-toggleable__label sk-toggleable__label-arrow\">Pipeline</label><div class=\"sk-toggleable__content\"><pre>Pipeline(steps=[(&#x27;tfidf&#x27;,\n",
       "                 TfidfVectorizer(max_features=1000,\n",
       "                                 stop_words=[&#x27;qdoba&#x27;, &#x27;chipotle&#x27;, &#x27;Chipotle&#x27;,\n",
       "                                             &#x27;Qdoba&#x27;, &#x27;CHIPOTLE&#x27;, &#x27;QDOBA&#x27;,\n",
       "                                             &#x27;alone&#x27;, &#x27;such&#x27;, &#x27;name&#x27;, &#x27;our&#x27;,\n",
       "                                             &#x27;whose&#x27;, &#x27;thick&#x27;, &#x27;himself&#x27;,\n",
       "                                             &#x27;another&#x27;, &#x27;in&#x27;, &#x27;you&#x27;, &#x27;except&#x27;,\n",
       "                                             &#x27;themselves&#x27;, &#x27;by&#x27;, &#x27;un&#x27;,\n",
       "                                             &#x27;amongst&#x27;, &#x27;who&#x27;, &#x27;seemed&#x27;,\n",
       "                                             &#x27;about&#x27;, &#x27;somewhere&#x27;, &#x27;fifty&#x27;,\n",
       "                                             &#x27;latter&#x27;, &#x27;off&#x27;, &#x27;she&#x27;, &#x27;have&#x27;, ...])),\n",
       "                (&#x27;model&#x27;, RandomForestClassifier())])</pre></div></div></div><div class=\"sk-serial\"><div class=\"sk-item\"><div class=\"sk-estimator sk-toggleable\"><input class=\"sk-toggleable__control sk-hidden--visually\" id=\"sk-estimator-id-2\" type=\"checkbox\" ><label for=\"sk-estimator-id-2\" class=\"sk-toggleable__label sk-toggleable__label-arrow\">TfidfVectorizer</label><div class=\"sk-toggleable__content\"><pre>TfidfVectorizer(max_features=1000,\n",
       "                stop_words=[&#x27;qdoba&#x27;, &#x27;chipotle&#x27;, &#x27;Chipotle&#x27;, &#x27;Qdoba&#x27;,\n",
       "                            &#x27;CHIPOTLE&#x27;, &#x27;QDOBA&#x27;, &#x27;alone&#x27;, &#x27;such&#x27;, &#x27;name&#x27;, &#x27;our&#x27;,\n",
       "                            &#x27;whose&#x27;, &#x27;thick&#x27;, &#x27;himself&#x27;, &#x27;another&#x27;, &#x27;in&#x27;, &#x27;you&#x27;,\n",
       "                            &#x27;except&#x27;, &#x27;themselves&#x27;, &#x27;by&#x27;, &#x27;un&#x27;, &#x27;amongst&#x27;,\n",
       "                            &#x27;who&#x27;, &#x27;seemed&#x27;, &#x27;about&#x27;, &#x27;somewhere&#x27;, &#x27;fifty&#x27;,\n",
       "                            &#x27;latter&#x27;, &#x27;off&#x27;, &#x27;she&#x27;, &#x27;have&#x27;, ...])</pre></div></div></div><div class=\"sk-item\"><div class=\"sk-estimator sk-toggleable\"><input class=\"sk-toggleable__control sk-hidden--visually\" id=\"sk-estimator-id-3\" type=\"checkbox\" ><label for=\"sk-estimator-id-3\" class=\"sk-toggleable__label sk-toggleable__label-arrow\">RandomForestClassifier</label><div class=\"sk-toggleable__content\"><pre>RandomForestClassifier()</pre></div></div></div></div></div></div></div>"
      ],
      "text/plain": [
       "Pipeline(steps=[('tfidf',\n",
       "                 TfidfVectorizer(max_features=1000,\n",
       "                                 stop_words=['qdoba', 'chipotle', 'Chipotle',\n",
       "                                             'Qdoba', 'CHIPOTLE', 'QDOBA',\n",
       "                                             'alone', 'such', 'name', 'our',\n",
       "                                             'whose', 'thick', 'himself',\n",
       "                                             'another', 'in', 'you', 'except',\n",
       "                                             'themselves', 'by', 'un',\n",
       "                                             'amongst', 'who', 'seemed',\n",
       "                                             'about', 'somewhere', 'fifty',\n",
       "                                             'latter', 'off', 'she', 'have', ...])),\n",
       "                ('model', RandomForestClassifier())])"
      ]
     },
     "execution_count": 28,
     "metadata": {},
     "output_type": "execute_result"
    }
   ],
   "source": [
    "#params that made random forest the best model\n",
    "# i chose to use best_estimator instead of best_params to save space\n",
    "rf_tfidf_grid.best_estimator_"
   ]
  },
  {
   "cell_type": "code",
   "execution_count": 41,
   "id": "132aecd0-bde5-4325-87e0-486ebf39b32d",
   "metadata": {},
   "outputs": [],
   "source": [
    "#test preds for classification report\n",
    "y_preds = rf_tfidf_grid.predict(X_test)"
   ]
  },
  {
   "cell_type": "code",
   "execution_count": 42,
   "id": "a3f3387b-a894-4a45-b9c7-e4813236ee40",
   "metadata": {},
   "outputs": [
    {
     "name": "stdout",
     "output_type": "stream",
     "text": [
      "              precision    recall  f1-score   support\n",
      "\n",
      "           0       0.99      0.97      0.98       584\n",
      "           1       0.95      0.98      0.97       355\n",
      "\n",
      "    accuracy                           0.97       939\n",
      "   macro avg       0.97      0.98      0.97       939\n",
      "weighted avg       0.97      0.97      0.97       939\n",
      "\n"
     ]
    }
   ],
   "source": [
    "print(classification_report(y_test, y_preds))"
   ]
  },
  {
   "cell_type": "code",
   "execution_count": 43,
   "id": "4175dca9-7447-4bfc-ad98-7a7bd5643f62",
   "metadata": {},
   "outputs": [
    {
     "data": {
      "image/png": "[encoded data removed]",
      "text/plain": [
       "<Figure size 640x480 with 2 Axes>"
      ]
     },
     "metadata": {},
     "output_type": "display_data"
    }
   ],
   "source": [
    "#creating confusion matrix with subreddits as labels for visualization\n",
    "class_names = ['r/chipotle', 'r/qdoba']\n",
    "ConfusionMatrixDisplay.from_estimator(rf_tfidf_grid, X_test, y_test, cmap = 'YlOrBr', display_labels=class_names)\n",
    "plt.title(\"Subreddit Classification Results\");"
   ]
  },
  {
   "cell_type": "markdown",
   "id": "2741c196-a8d0-4bc6-9717-a1890210919e",
   "metadata": {},
   "source": [
    "The `RF TFIDF` model only made 23 incorrect predictions out of 939 on the test set. It has very little false negatives and false positives. For example, it incorrectly predicted chipotle for qdoba 7 times out of 355 qdoba posts, and incorrectly predicted qdoba 17 times out of 584 chipotle posts."
   ]
  },
  {
   "cell_type": "code",
   "execution_count": 44,
   "id": "8367a494-09e6-4719-8888-ea5b01e1a14a",
   "metadata": {},
   "outputs": [
    {
     "data": {
      "image/png": "[encoded data removed]",
      "text/plain": [
       "<Figure size 640x480 with 1 Axes>"
      ]
     },
     "metadata": {},
     "output_type": "display_data"
    }
   ],
   "source": [
    "#making an roc cure to show the tradeoff between TPR and FPR\n",
    "RocCurveDisplay.from_estimator(rf_tfidf_grid,X_test,y_test, name = 'RandomForestClassifier')\n",
    "plt.plot([0,1], [0,1], label = 'Baseline')\n",
    "plt.legend()\n",
    "plt.title(\"ROC Curve: Random Forest Classifier vs. Baseline\");"
   ]
  },
  {
   "cell_type": "markdown",
   "id": "9c852239-abd8-460c-9961-2c62371fac8f",
   "metadata": {},
   "source": [
    "The ROC Curve further demonstrates how model behave as the threshold is adjusted. Despite increasing the FPR, the model is not showing a corresponding rise in the TPR. The AUC value further quantifies the model's performance. There is a perfect score of 1 which indicates optimal performance."
   ]
  },
  {
   "cell_type": "code",
   "execution_count": 45,
   "id": "49765894-525f-4069-a779-0d505d1769fc",
   "metadata": {},
   "outputs": [
    {
     "data": {
      "image/png": "[encoded data removed]",
      "text/plain": [
       "<Figure size 640x480 with 1 Axes>"
      ]
     },
     "metadata": {},
     "output_type": "display_data"
    }
   ],
   "source": [
    "#creating graph to show what features the model used  to best predict the subreddits\n",
    "\n",
    "best_model = rf_tfidf_grid.best_estimator_\n",
    "rf_model = best_model.named_steps['model']\n",
    "\n",
    "#getting the feature importances\n",
    "importances = rf_model.feature_importances_\n",
    "features = best_model.named_steps['tfidf'].get_feature_names_out()\n",
    "importance_df = pd.DataFrame({'importance': importances, 'features': features}).nlargest(15, 'importance')\n",
    "\n",
    "plt.barh(importance_df['features'], importance_df['importance'], color ='#DA3A18')\n",
    "plt.xlabel('Importance')\n",
    "plt.ylabel('Feature')\n",
    "plt.title('Top 15 Model Features by Importance');"
   ]
  },
  {
   "cell_type": "markdown",
   "id": "256f9dcf-d000-4a2f-8036-4feeddfaf655",
   "metadata": {},
   "source": [
    "Words such as `app`, along with `queso` and `soup` played a crucial role in teaching the model to distinguish between the different subreddits. For example, `app` received an importance rating of greater than 0.025 meaning the Chipotle's and Qdoba's app primarily helped the model make its predictions."
   ]
  }
 ],
 "metadata": {
  "kernelspec": {
   "display_name": "Python 3 (ipykernel)",
   "language": "python",
   "name": "python3"
  },
  "language_info": {
   "codemirror_mode": {
    "name": "ipython",
    "version": 3
   },
   "file_extension": ".py",
   "mimetype": "text/x-python",
   "name": "python",
   "nbconvert_exporter": "python",
   "pygments_lexer": "ipython3",
   "version": "3.11.7"
  }
 },
 "nbformat": 4,
 "nbformat_minor": 5
}
